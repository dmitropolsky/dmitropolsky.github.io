{
 "cells": [
  {
   "cell_type": "markdown",
   "id": "83d59060",
   "metadata": {
    "slideshow": {
     "slide_type": "slide"
    }
   },
   "source": [
    "# Revisiting the Cryptographic Hardness of Finding a Nash Equilibrium\n",
    "\n",
    "### Sanjam Garg, Omkant Pandey, Askhayaram Srinivasan\n",
    "\n",
    "##### Ashvin Jagadeesan, Akshat Yaparla"
   ]
  },
  {
   "cell_type": "markdown",
   "id": "e32d3147",
   "metadata": {
    "slideshow": {
     "slide_type": "slide"
    }
   },
   "source": [
    "## The Question\n",
    "\n",
    "BPR'15 prove the hardness of SVL by assuming the existence of quasi-polynomially hard iO, and sub-exponentially hard one-way functions. Can we base the hardness on SVL on commly assumed, polynomially hard, computational assumptions?\n"
   ]
  },
  {
   "cell_type": "markdown",
   "id": "c8045815",
   "metadata": {
    "slideshow": {
     "slide_type": "slide"
    }
   },
   "source": [
    "## The Answer, at a high level\n",
    "\n",
    "Garg et al, proved that this question has an affirmative answer: it is possible to base SVL-hardness on simpler primitives. \n",
    "\n",
    "Namely, they showed that the existence of polynomially-hard iO and OWP implies SVL-hardness. "
   ]
  },
  {
   "cell_type": "markdown",
   "id": "08c5b326",
   "metadata": {
    "slideshow": {
     "slide_type": "slide"
    }
   },
   "source": [
    "## Main Contributions\n",
    "\n",
    "Specifically, (some of) the major contributions of GPS'16 are based on:\n",
    "- Relying on \"regular strength\"(polynomially hard) iO to construct a polynomial time-reduction.\n",
    "    - This is in contrast to the reduction in BPR'15, which requires iO security with at least \"super strong\" (quasi-polynomially hard) security. \n",
    "- Reducing the number of hybrids in proof of hardness **without** loss in security\n",
    "    - Specifically, the security of BPR'15 is based on either an exponential number of assumptions that arise from each pair of circuits or a polynomial set of assumptions with exponential loss in reduction.\n",
    "    "
   ]
  },
  {
   "cell_type": "markdown",
   "id": "837571d8",
   "metadata": {
    "slideshow": {
     "slide_type": "slide"
    }
   },
   "source": [
    "## A Central Theorem\n",
    "\n",
    "The entirety of this talk is based on the following theorem\n",
    "\n",
    "**Theorem 1: OWP + iO $\\rightarrow$ SVL-Hardness on Average**:\n",
    "\n",
    "*That is, if polynomially-hard one-way permutations and indistinguishability obfuscation exist for P/poly, then SVL is hard, on average, for polynomial-time algorithms.*"
   ]
  },
  {
   "cell_type": "markdown",
   "id": "cbdfaa8c",
   "metadata": {
    "slideshow": {
     "slide_type": "slide"
    }
   },
   "source": [
    "## Goal of techniques\n",
    "\n",
    "GPS'16 builds upon the work of BPR'15. Crucially, both papers show the construction of an efficient sampling procedure that samples hard instances of SVL. Today, we will see how to construct this sampler using polynomially-hard iO."
   ]
  },
  {
   "cell_type": "markdown",
   "id": "024f3e63",
   "metadata": {
    "slideshow": {
     "slide_type": "slide"
    }
   },
   "source": [
    "## Prelude: Some important notation and assumptions\n",
    "\n",
    "In this presentation, we will utilize the following notation:\n",
    "- Instances of SVL will be specified by a tuple $(S, V, x_s, T)$. \n",
    "    - $V$ is the verification circuit, where $V(x, i) = 1 \\leftrightarrow x = S^{i - 1}(x_s)$\n",
    "    - $T$ represents the sink that we wish to find, but will (supposedly) fail to do so efficiently\n",
    "- Indices of $SVL$ instances will be represented by $i \\in \\{0, 1\\}^{\\kappa}$, and $T = 2^{\\kappa} - 1$\n",
    "- $i$ will be written in binary, and $i_{1:k}$ will represent the prefix string containing $i_1, i_2, ..., i_k$\n",
    "- When integer $i$ is written in binary, it is written from left to right\n",
    "- We have access to different $PRF$s, each of which can handle inputs of varying-length: \n",
    "    - so it is possible to have scenarios such as $PRF_{S_1}(0), PRF_{S_\\kappa}(0^\\kappa)$\n",
    "- If $S$ appears as a subscript for a cryptographic primititive, it indicates a secret-key.\n",
    "- In this presentation, the word \"signature\" corresponds to a value $\\sigma$ that is an output of a PRF on some input"
   ]
  },
  {
   "cell_type": "markdown",
   "id": "0b0d9b06",
   "metadata": {
    "slideshow": {
     "slide_type": "slide"
    }
   },
   "source": [
    "## BPR'15 Construction\n",
    "\n",
    "The crux of the BPR'15 approach can be summarized as follows:\n",
    "\n",
    "$KeyGen$: On input $1^\\kappa$: Outputs $S_\\kappa$ // **this is a secret key** not a circuit.\n",
    "\n",
    "$O$: On input $S$: \n",
    "  - Outputs an indistinguishable obfuscation $\\tilde{S}$\n",
    "\n",
    "$S_{S_\\kappa}$: On input $(i, \\sigma)$:\n",
    "- Checks if $\\sigma = PRF_{S_\\kappa}(i)$: \n",
    "     - If $i = T$:\n",
    "          - Output $(i, PRF_{S_\\kappa}(i))$\n",
    "     - Else:\n",
    "          - Output, $(i + 1, PRF_{S_\\kappa}(i + 1))$.\n",
    "- Else:\n",
    "    - Output $\\perp$\n",
    "\n",
    "$V_{S_\\kappa}$: On input $(x = (i, \\sigma), j)$:\n",
    "- If $i = j$:\n",
    "    - Check if $\\sigma = PRF_{S_\\kappa}(i)$: // Equivalent to ($x = S^{i - 1}(x_s)$):\n",
    "        - Output $1$\n",
    "- Else:\n",
    "    - Output $0$\n",
    "\n",
    "$x_s = (1, PRF_{S_\\kappa}(1))$\n",
    " \n",
    "$T = 2^\\kappa - 1$\n",
    "\n",
    "Return instance $(O(S_{S_k}), O(V_{S_k}), (1, PRF_{S_{\\kappa}}(1)), T)$\n"
   ]
  },
  {
   "cell_type": "markdown",
   "id": "ba206c05",
   "metadata": {
    "slideshow": {
     "slide_type": "slide"
    }
   },
   "source": [
    "## An important Issue with BPR'15\n",
    "\n",
    "Due to the fact that $T$ is a super-polynomial value, the size of the interval from $[u, T]$ may not be polynomial. As a result, iteratively puncturing the circuit leads to a super-polynomial number of hybrids in their proof of average-case hardness.\n",
    "\n",
    "\n",
    "To address this issue, GPS'16 increases the punctured inveral whenever a node is made to be invalid"
   ]
  },
  {
   "cell_type": "markdown",
   "id": "ff40f5ca",
   "metadata": {
    "slideshow": {
     "slide_type": "slide"
    }
   },
   "source": [
    "## Key Observations to improve BPR'15\n",
    "\n",
    "For illustration, let us consider some index $u \\in \\{0, 1\\}^{\\kappa}$ such that it has $k$ trailing $1$s, where $k \\in [\\kappa]$. Then, $u$ will be of the following form \n",
    "$$u = u_{1: \\kappa - k - 1} \\cdot 01^k$$\n",
    "\n",
    "Furthermore, $u + 1$ will be of the following form:\n",
    "$$u + 1 = u_{1: \\kappa - k - 1} \\cdot 10^k$$\n",
    "\n",
    "Notice that something interesting happens here due to the nature of prefix codes of binary representations. Namely,\n",
    "that:\n",
    "- The first $\\kappa - k$ prefix bits of $u + 1$ are identical to the first $\\kappa - k$ prefix bits of **all points** in the interval $[u + 1, u + 2^k]$\n",
    "- The value $PRF_{S}((u + 1)_{1: \\kappa - k})$ for index $u + 1$ is not needed  anywhere on the line graph except for $[u + 1, u + 2^k]$"
   ]
  },
  {
   "cell_type": "markdown",
   "id": "ec1d8c65",
   "metadata": {
    "slideshow": {
     "slide_type": "slide"
    }
   },
   "source": [
    "## Exploiting the structure of prefix-codes\n",
    "\n",
    "To exploit this fact, we introduce a slight modification to GPS'16. Rather than having each node be of the form:\n",
    "\n",
    "$$(i, \\sigma) \\text{ where } \\sigma = PRF_{S_\\kappa}(i)$$\n",
    "\n",
    "We have nodes of the following form:\n",
    "\n",
    "$$(i, \\sigma_{1}, \\sigma_{2}, ..., \\sigma_{\\kappa})$$\n",
    "\n",
    "Where $\\sigma_j = PRF_{S_j}(i_{1:j})$ for all $j \\in [\\kappa]$, and each $S_j$ denotes a different secret key.\n",
    "\n",
    "Note that $(i, \\sigma_\\kappa)$ corresponds to BPR'15"
   ]
  },
  {
   "cell_type": "markdown",
   "id": "f1834069",
   "metadata": {},
   "source": [
    "## GPS'16 Construction\n",
    "\n",
    "$KeyGen$: On input $1^\\kappa$:\n",
    "- Output $\\{S_k\\}_{k \\in [\\kappa]}$, where each $S_k$ is a secret key for a $PRF_{S_k}:\\{0, 1\\}^k \\rightarrow \\{0, 1\\}^\\kappa$.\n",
    "\n",
    "$O$: On input a circuit $S$:\n",
    "- Outputs an indistinguishable obsfuscation $\\tilde{S}$ of S (for circuits in P/poly)\n",
    "\n",
    "$S_{S_1, S_2, ..., S_\\kappa}$: On input $(i, \\sigma_1, ..., \\sigma_\\kappa)$:\n",
    "- If $\\land_{k \\in [\\kappa]} \\sigma_k = PRF_k(i_{1:k})$\n",
    "    - If $i = T$:\n",
    "        - Output $(i, \\sigma_1, ..., \\sigma_\\kappa)$\n",
    "    - Else:\n",
    "        - Output $(i + 1, PRF_{S_1}((i + 1)_{1}), PRF_{S_2}((i + 1)_{1:2}), ..., PRF_{S_\\kappa}((i + 1)_{1: \\kappa})$\n",
    "- Else:\n",
    "    - Output $\\perp$\n",
    "    \n",
    "$V_{S_1, S_2, ..., S_\\kappa}$: On input $(x = (i, \\sigma_1, ..., \\sigma_\\kappa), j)$:\n",
    "- If $i = j$:\n",
    "    - If $\\land_{k \\in \\kappa}[\\sigma_k = PRF_{S_k}(i_{1:k})]$:\n",
    "        - Output $1$\n",
    "- Output $0$\n",
    "\n",
    "$x_s = (0^k, PRF_{S_1}(0), ..., PRF_{S_\\kappa}(0^\\kappa)$\n",
    "\n",
    "$T = 2^\\kappa - 1$\n",
    "\n",
    "Return instance $(O(S_{S_1, S_2, ..., S_\\kappa}), O(V_{S_1, S_2, ..., S_\\kappa}), x_s, T)$"
   ]
  },
  {
   "cell_type": "markdown",
   "id": "aaeb2957",
   "metadata": {
    "slideshow": {
     "slide_type": "slide"
    }
   },
   "source": [
    "## From Lines to Chains\n",
    "\n",
    "By constructing nodes in this manner, the signatures can be thought of as \"virtual chains\", emanating from each node and connecting to other nodes. \n",
    "- The first chain coming out of a node $i$ is connected to $i + 1$\n",
    "- The second chain is connected to $i + 2$\n",
    "- The $j^{th}$ chain is connected to $i + 2^{j - 1}$\n",
    "\n",
    "The number of chains coming out of $i$ is one more than the number of trailing ones in the binary representation of $i$, or the number of bits that change from $i$ to $i + 1$."
   ]
  },
  {
   "cell_type": "markdown",
   "id": "b47722e2",
   "metadata": {
    "slideshow": {
     "slide_type": "slide"
    }
   },
   "source": [
    "## The Effects of puncturing\n",
    "\n",
    "The successor circuit is now an obfuscation of a program that checks each signature on appropriate prefixes of $i$, and if so, signs all $\\kappa$ prefixes of $i + 1$ using the appropriate keys. The first node is now:\n",
    "$$x_s = (0^k, PRF_{S_1}(0), PRF_{S_2}(00), ..., PRF_{S_{\\kappa}}(0^\\kappa))$$\n",
    "\n",
    "<!-- And $T = 2^{\\kappa} - 1$ -->"
   ]
  },
  {
   "cell_type": "markdown",
   "id": "0be9efd7",
   "metadata": {
    "slideshow": {
     "slide_type": "slide"
    }
   },
   "source": [
    "Now, suppose that, as before, we have punctured the successor circuit at a random node $u$. Then the fact that the punctured circuit does not output *any* signature on $u + 1$ means that it does not output the signature $\\sigma_{\\kappa - k}$ on the first $\\kappa - k$ bits of $u + 1$. \n",
    "\n",
    "The most important consequence of this result is that it does not output this signature on the first $\\kappa - k$ bits of **any point in the interval** $[u + 1, u + 2^k]$. Puncturing with this type of node allows us to skip all the way to $[u + 2^k]$ are our next puncture point instead of $[u + 1]$. **This is one major improvement over BPR'15**, because we can now jump by a, potentially super-polynomial amount, to our next puncture point. We iterate over this process until we hit $T$. "
   ]
  },
  {
   "cell_type": "markdown",
   "id": "aec3ac85",
   "metadata": {
    "slideshow": {
     "slide_type": "slide"
    }
   },
   "source": [
    "Puncturing the circuit is viewed as cutting the chains of appropriate length between points. While BPR cuts chains of length $1$, this strategy cuts the longest possible chain and then iterates. A consequence of this type of jump is that we will have a *polynomial number of hybrids* to consider."
   ]
  },
  {
   "cell_type": "markdown",
   "id": "f9b78b52",
   "metadata": {
    "slideshow": {
     "slide_type": "slide"
    }
   },
   "source": [
    "## A Small Caveat\n",
    "\n",
    "When implementing the idea above, we face the difficulty that for a random $u$, the number of chains coming out of $u$ could be very small(at least $1$). To circumvent this issue, we initially cut \"smaller\" length chains until we have the ability to cut \"larger\" length chains. This results in not needing to cut any more than a linear(in $\\kappa$) number of chains in $T$. As a result, **the construction only suffers polynomial loss as opposed to sub-exponential loss in BPR'15** in the security parameter."
   ]
  },
  {
   "cell_type": "markdown",
   "id": "f20919f9",
   "metadata": {
    "slideshow": {
     "slide_type": "slide"
    }
   },
   "source": [
    "**Don't puncture and walk, puncture and jump**"
   ]
  },
  {
   "cell_type": "markdown",
   "id": "aa88a2ce",
   "metadata": {
    "slideshow": {
     "slide_type": "slide"
    }
   },
   "source": [
    "## GPS'16 Construction\n",
    "\n",
    "$KeyGen$: On input $1^\\kappa$:\n",
    "- Output $\\{S_k\\}_{k \\in [\\kappa]}$, where each $S_k$ is a secret key for a $PRF_{S_k}:\\{0, 1\\}^k \\rightarrow \\{0, 1\\}^\\kappa$.\n",
    "\n",
    "$O$: On input a circuit $S$:\n",
    "- Outputs an indistinguishable obsfuscation $\\tilde{S}$ of S (for circuits in P/poly)\n",
    "\n",
    "$S_{S_1, S_2, ..., S_\\kappa}$: On input $(i, \\sigma_1, ..., \\sigma_\\kappa)$:\n",
    "- If $\\land_{k \\in [\\kappa]} \\sigma_k = PRF_k(i_{1:k})$\n",
    "    - Output $(i + 1, PRF_{S_1}((i + 1)_{1}), PRF_{S_2}((i + 1)_{1:2}), ..., PRF_{S_\\kappa}((i + 1)_{1: \\kappa})$\n",
    "- Else:\n",
    "    - Output $\\perp$\n",
    "    \n",
    "$V_{S_1, S_2, ..., S_\\kappa}$: On input $(x = (i, \\sigma_1, ..., \\sigma_\\kappa), j)$:\n",
    "- If $i = j$:\n",
    "    - If $\\land_{k \\in \\kappa}[\\sigma_k = PRF_{S_k}(i_{1:k})]$:\n",
    "        - Output $1$\n",
    "- Output $0$\n",
    "\n",
    "$x_s = (0^k, PRF_{S_1}(0), ..., PRF_{S_\\kappa}(0^\\kappa)$\n",
    "\n",
    "$T = 2^\\kappa - 1$\n",
    "\n",
    "Return instance $(O(S_{S_1, S_2, ..., S_\\kappa}), O(V_{S_1, S_2, ..., S_\\kappa}), x_s, T)$"
   ]
  },
  {
   "cell_type": "markdown",
   "id": "cba727f7",
   "metadata": {
    "slideshow": {
     "slide_type": "slide"
    }
   },
   "source": [
    "## BPR'15 Construction\n",
    "\n",
    "The crux of the BPR'15 approach can be summarized as follows:\n",
    "\n",
    "$KeyGen$: On input $1^\\kappa$: Outputs $S_\\kappa$ // **this is a secret key** not a circuit.\n",
    "\n",
    "$O$: On input $S$: \n",
    "  - Outputs an indistinguishable obfuscation $\\tilde{S}$\n",
    "\n",
    "$S_{S_\\kappa}$: On input $(i, \\sigma)$:\n",
    "- Checks if $\\sigma = PRF_{S_\\kappa}(i)$:\n",
    "    - Output, which is guaranteed to be $(i + 1, PRF_{S_\\kappa}(i + 1))$.\n",
    "- Else:\n",
    "    - Output $\\perp$\n",
    "\n",
    "$V_{S_\\kappa}$: On input $(x = (i, \\sigma), j)$:\n",
    "- If $i = j$:\n",
    "    - Check if $\\sigma = PRF_{S_\\kappa}(i)$: // Equivalent to ($x = S^{i - 1}(x_s)$):\n",
    "        - Output $1$\n",
    "- Else:\n",
    "    - Output $0$\n",
    "\n",
    "$x_s = (1, PRF_{S_\\kappa}(1))$\n",
    " \n",
    "$T = 2^\\kappa - 1$\n",
    "\n",
    "Return instance $(O(S_{S_k}), O(V_{S_k}), (1, PRF_{S_{\\kappa}}(1)), T)$\n"
   ]
  },
  {
   "cell_type": "markdown",
   "id": "40b5c788",
   "metadata": {
    "slideshow": {
     "slide_type": "slide"
    }
   },
   "source": [
    "\n",
    "## Thanks!\n",
    "\n",
    "*Appendix beyond this point*\n",
    "*we will adhere with the notation of GPS'16, rather than BPR'15, where we cover proof of hardness**"
   ]
  },
  {
   "cell_type": "markdown",
   "id": "c3171e2b",
   "metadata": {
    "slideshow": {
     "slide_type": "skip"
    }
   },
   "source": [
    "## The SVL Sampler\n",
    "\n",
    "Given the NEXT circuit, we can construct hard instances of SVL. Here is the recipe for doing so\n",
    "\n",
    "$SAMPLER$: On input $1^\\kappa$:\n",
    "- Secret Keys: sample secret keys for PRF's, $\\{S_i\\}_{i \\in [\\kappa]} \\leftarrow KeyGen_{PRF}(1^\\kappa)$. For all $i \\in [\\kappa]$, $S_i$ is a seed for a $PRF_{S_i}:\\{0, 1\\}^i \\rightarrow \\{0, 1\\}^\\kappa$.\n",
    "- Source Node: $x_s = (0^k, PRF_{S_1}(0), ..., PRF_{S_\\kappa}(0^\\kappa))$\n",
    "- Successor Circuit: S \\leftarrow iO(NEXT_{S_1, ..., S_\\kappa})\n",
    "- Verification Circuit: V where \n",
    "\n",
    "$V$: On input $((x, \\sigma_1, ..., \\sigma_\\kappa), j)$\n",
    "- If $x = j - 1$ and $iO(NEXT_{S_1, ..., S_\\kappa})((x, \\sigma_1, ..., \\sigma_\\kappa)) \\neq \\perp$: output 1\n",
    "- Else: output 0\n",
    "    \n"
   ]
  },
  {
   "cell_type": "markdown",
   "id": "5400b2a8",
   "metadata": {
    "slideshow": {
     "slide_type": "skip"
    }
   },
   "source": [
    "## Proof of Hardness: Strategy\n",
    "\n",
    "We start by showing that $SAMPLER$ generates hard SVL instances. At a high level, it will suffice to show that:\n",
    "- $V((x, \\sigma_1, ..., \\sigma_\\kappa), j)$ outputs $1$ if and only if $x = j - 1$ and $NEXT_{S_1, ..., S_\\kappa}(x, \\sigma_1, ..., \\sigma_\\kappa) \\neq \\perp$\n",
    "- $(x, \\sigma_1, ..., \\sigma_\\kappa) = S^{i - 1}(x_s)$\n",
    "\n",
    "(Therefore, by design, we have that $(x, \\sigma_1, ..., \\sigma_\\kappa) = S^{i - 1}(x_s)$)\n",
    "- No poly-time adversary can output a valid value for $(1^\\kappa, \\sigma_1, ..., \\sigma_\\kappa)$"
   ]
  },
  {
   "cell_type": "markdown",
   "id": "4c3ba9a3",
   "metadata": {
    "slideshow": {
     "slide_type": "slide"
    }
   },
   "source": [
    "## The Circuit $NEXT^*$\n",
    "\n",
    "In our hybrids we will use the circuit $NEXT^*_{S_1, ..., S_\\kappa, u, u'}$ which is a modification of $NEXT^{S_1, ..., S_{\\kappa}}$ that is padded to size $p(\\kappa)$. This circuit is identical to $NEXT^{S_1, ..., S_{\\kappa}}$, except when $x \\in [u, u']$, $NEXT^*_{S_1, .., S_\\kappa, u, u'}$ outputs $\\perp$."
   ]
  },
  {
   "cell_type": "markdown",
   "id": "cd0cd170",
   "metadata": {
    "slideshow": {
     "slide_type": "slide"
    }
   },
   "source": [
    "## Sequence of Hybrids\n",
    "\n",
    "Here are our Hybrids"
   ]
  },
  {
   "cell_type": "markdown",
   "id": "b008adf9",
   "metadata": {
    "slideshow": {
     "slide_type": "skip"
    }
   },
   "source": [
    "## Hybrid 0\n",
    "\n",
    "$Hyb_0$: This hybrid corresponds to the SVL instance generated by $SAMPLER(1^\\kappa)$\n"
   ]
  },
  {
   "cell_type": "markdown",
   "id": "67f4ca23",
   "metadata": {
    "slideshow": {
     "slide_type": "skip"
    }
   },
   "source": [
    "## Hybrid 1\n",
    "\n",
    "$Hyb_1$: In this hybrid, we change how the successor circuit, $S$, is generated. In particular:\n",
    "- The new successor circuit $S \\rightarrow iO(NEXT^1_{S_1, ..., S_k, v})$ instead of $iO(NEXT_{S_1, ..., S_\\kappa})$, except on input $(x, \\cdot, ..., \\cdot)$, where $v = PRG(x)$, the circuit outputs $\\perp$. The value $v \\leftarrow_{U} \\{0, 1\\}^{2\\kappa}$.\n",
    "- As a result, $NEXT^1_{S_1, ..., S_\\kappa, v}$ and $NEXT_{S_1, ..., S_\\kappa}$ are functionally equivalent.\n",
    "- Therefore iO implies computational indistinguishability between $Hyb_0$ and $Hyb_1$"
   ]
  },
  {
   "cell_type": "markdown",
   "id": "b104d14b",
   "metadata": {
    "slideshow": {
     "slide_type": "skip"
    }
   },
   "source": [
    "## Hybrid 2\n",
    "\n",
    "$Hyb_2$: In this hybrid, we change how the value $v$, that is hardcoded in $NEXT^1_{S_1, ..., S_\\kappa}$, is generated. \n",
    "- Instead of sampling $v \\leftarrow_U \\{0, 1\\}^{2\\kappa}$, we generate $v = PRG(u_0)$ where $u \\leftarrow_U \\{0, 1\\}^\\kappa$. \n",
    "- Here, it is crucial that the PRG is length doubling and injective.\n",
    "- The successor circuit is now $S \\leftarrow iO(NEXT^1_{S_1, ..., S_\\kappa, PRG(u_0)})$"
   ]
  },
  {
   "cell_type": "markdown",
   "id": "5b5e68a5",
   "metadata": {
    "slideshow": {
     "slide_type": "skip"
    }
   },
   "source": [
    "## Hybrid 3\n",
    "\n",
    "$Hyb_3$: In this hybrid, we change how the successor is generated. \n",
    "- Insteading setting the successor ciruit $S \\leftarrow iO(NEXT^1_{S_1, ..., S_\\kappa, PRG(u_0)})$, we set it to $S \\leftarrow iO(NEXT^*_{S_1, ..., S_\\kappa, u_0, u_0})$. \n",
    "- Due to the fact that the PRG is injective, iO implies that $Hyb_2$ and $Hyb_3$ are computationally indistinguishable."
   ]
  },
  {
   "cell_type": "markdown",
   "id": "4bfd1896",
   "metadata": {
    "slideshow": {
     "slide_type": "skip"
    }
   },
   "source": [
    "## Prelude to Hybrid 4, j\n",
    "\n",
    "Before we can proceed with $Hyb_{4, j}$, we need define values $u_j$. \n",
    "\n",
    "Let $u \\in \\{0, 1\\}^\\kappa$ be an index, let $f(u)$ denote the index of the lowest order bit of $u$ that is $0$(with index of highest order bit being $1$). Furthermore, let $\\delta(u)$ is the number of 0 bits in $u$(when written in binary)\n",
    "\n",
    "Formally,$f(u)$ is the smallest $j$ such that $u = u_{1:j} \\cdot 1^{\\kappa - j}$. \n",
    "\n",
    "For example, if $u = 10011$, then $f(u) = 3$"
   ]
  },
  {
   "cell_type": "markdown",
   "id": "4051b4a0",
   "metadata": {
    "slideshow": {
     "slide_type": "skip"
    }
   },
   "source": [
    "Starting with a value $u_0 \\in \\{0, 1\\}^\\kappa$, we define a sequence of values such that $u_{j + 1}$ is the value $u_j$ with $f(u_j)^{th}$ bit set to $1$. This implies that $u_{j + 1} = u_j + 2^{\\kappa - f(u_j)}$\n",
    "\n",
    "Now, we can see that for all $j \\in \\{0, ..., \\delta(u_0)\\}$, we have that $\\delta(u_{j + 1}) < \\delta(u_j)$ because we keep swapping values of $0$ with $1$ with each subsequent increment in $j$. \n",
    "\n",
    "Furthermore, we can note that $u_{\\delta(u_0)} = 1^\\kappa$ and $\\delta(u_0) \\leq \\kappa$."
   ]
  },
  {
   "cell_type": "markdown",
   "id": "52c8f220",
   "metadata": {
    "slideshow": {
     "slide_type": "skip"
    }
   },
   "source": [
    "Let's walk through an example:\n",
    "- Let $u_0 = 0010$, then $\\kappa = 4$ and $\\delta(u_0) = 3$. So now, the set in which $j$ can range is the set $\\{0, ..., 3\\}$\n",
    "- Now, $f(u_0) = 4$\n",
    "- Let's compute $u_1$. We take $u_0$ and set it's $f(u_0)^{th}$ bit to $1$. So, $u_1 = 0011$\n",
    "- We can repeat this process to get $u_2 = 0111$ and $u_3 = 1111$\n",
    "\n",
    "Notice how the size of the jump increases with each increment of $j$ increases. "
   ]
  },
  {
   "cell_type": "markdown",
   "id": "0f97ff70",
   "metadata": {
    "slideshow": {
     "slide_type": "skip"
    }
   },
   "source": [
    "## Hybrid 4,j\n",
    "\n",
    "$Hyb_{4, j}$: In this hybrid, for $j \\in \\{0, ..., \\delta(u_0)\\}$, the successor circuit is generated as an obfuscation of $NEXT^*_{S_1, ..., S_\\kappa, u_0, u_j}$."
   ]
  },
  {
   "cell_type": "markdown",
   "id": "10f2d191",
   "metadata": {
    "slideshow": {
     "slide_type": "skip"
    }
   },
   "source": [
    "## Indistinguishability between Hybrid 4, j and Hybrid 4, j + 1\n",
    "\n",
    "To prove this statement, we need to prove indistinguishability via sub-hybrids, where in each successive hybrid, we make a small change to the successor circuit. As a shorthand, let $f_j = f(u_j)$ and $t_j = u_{j_{1:f_j}} + 1$"
   ]
  },
  {
   "cell_type": "markdown",
   "id": "57c6f46f",
   "metadata": {
    "slideshow": {
     "slide_type": "skip"
    }
   },
   "source": [
    "### Hybrid 4, j, 1\n",
    "\n",
    "$Hyb_{4, j, 1}$: In this hybrid, let $S'_{f_j} = Punc(S_{f_j}, t_j)$ and let $\\sigma^* = PRF_{S_{f_j}}(t_j)$. Replace the successor circuit from an obfuscation of $NEXT^*_{S_1, ..., S_\\kappa u_0, u_j}$ to an obfuscation of $NEXT^2_{S_1, ..., S_\\kappa, u_0, u_j, \\sigma^*}$\n",
    "\n",
    "Note that $NEXT^2_{S_1, ..., S_\\kappa, u_0, u_j, \\sigma^*}$ is identical to $NEXT^*_{S_1, ..., S_\\kappa u_0, u_j}$, except that it cannot compute $PRF_{S_{f_j}}(t_j)$. However, the same circuit is hardcoded with the value, denoted by $\\sigma^*$. Now, $Hyb_{4, j}$ and $Hyb_{4, j, 1}$ are computationally indistinguishable"
   ]
  },
  {
   "cell_type": "markdown",
   "id": "b4065544",
   "metadata": {
    "slideshow": {
     "slide_type": "skip"
    }
   },
   "source": [
    "### Hybrid 4, j, 2\n",
    "\n",
    "The successor circuit is still an obfuscation of $NEXT^2_{S_1, ..., S_\\kappa, u_0, u_j, \\sigma^*}$ with $S'_{f_j} = Punc(S_{f_j}, t_j)$(like in $Hyb_{4, j, 1})$. The difference between this hybrid and the previous is that $\\sigma^* \\leftarrow \\{0, 1\\}^\\kappa$, rather than $PRF_{S_{f_j}}(t_j)$. Thus, $Hyb_{4, j, 1}$ and $Hyb_{4, j, 2}$ are computationally indistinguishable."
   ]
  },
  {
   "cell_type": "markdown",
   "id": "cd6e4ff8",
   "metadata": {
    "slideshow": {
     "slide_type": "skip"
    }
   },
   "source": [
    "### Hybrid 4, j, 3\n",
    "\n",
    "$Hyb_{4, j, 3}$: In this circuit, instead of generating the successor circuit as obfuscation of $NEXT^2_{S_1, ..., S_\\kappa, u_0, u_j, \\sigma^*}$, we generate it as an obfuscation of $NEXT^3_{S_1, ..., S_\\kappa, u_0, u_j, \\tau^*}$, where $\\tau = PRG(\\sigma^*)$.\n",
    "\n",
    "This is essentially a way of getting around storing $\\sigma^*$ in the clear. Note that $Hyb_{4, j, 2}$ and $Hyb_{4, j, 3}$ are computationally indistinguishable."
   ]
  },
  {
   "cell_type": "markdown",
   "id": "62902c1b",
   "metadata": {
    "slideshow": {
     "slide_type": "skip"
    }
   },
   "source": [
    "### Hybrid 4, j, 4\n",
    "\n",
    "$Hyb_{4, j, 4}$: In this hybrid, we still obfuscate $NEXT^3_{S_1, ..., S_\\kappa, u_0, u_j, \\tau}$, except $\\tau \\leftarrow_U \\{0, 1\\}^{2\\kappa}$ instead of $\\tau = PRG(\\sigma^*)$.\n",
    "\n",
    "By the (indistinguishability )guarantees of PRG,$Hyb_{4, j, 3}$ and $Hyb_{4, j, 4}$ are computationally indistinguishable."
   ]
  },
  {
   "cell_type": "markdown",
   "id": "b69e3f54",
   "metadata": {
    "slideshow": {
     "slide_type": "skip"
    }
   },
   "source": [
    "### Hybrid 4, j, 5\n",
    "\n",
    "$Hyb_{4, j, 5}$: In this circuit, we take replace $NEXT^3_{S_1, ..., S_\\kappa, u_0, u_j, \\tau^*}$ with $iO(NEXT^3_{S_1, ..., S_\\kappa, u_0, u_j, \\tau^*})$.\n",
    "\n",
    "Due to iO, $Hyb_{4, 1, 4}$ and $Hyb_{4, 1, 5}$ are computationally indistinguishable."
   ]
  },
  {
   "cell_type": "markdown",
   "id": "a240e136",
   "metadata": {
    "slideshow": {
     "slide_type": "skip"
    }
   },
   "source": [
    "### Hybrid 4, j, 6\n",
    "\n",
    "$Hyb_{4, j, 6}$: Instead of using the puncture key $S'_{f_j}$, we use the unpunctured key $S_{f_j}$. Specifically, we generate the sampler as an obfuscation of $NEXT^*{S_1, ..., S_k, u_0, u_{j + 1}}$\n",
    "\n",
    "Finally, computational indistinguishability follows from iO "
   ]
  },
  {
   "cell_type": "markdown",
   "id": "fbf8783d",
   "metadata": {
    "slideshow": {
     "slide_type": "skip"
    }
   },
   "source": [
    "Note that $Hyb_{4, j, 6}$ is the same as $Hyb_{4, j + 1}$. As a result, we have proven (computational) indistinguishability. Proving the hardness of the SVL instance"
   ]
  },
  {
   "cell_type": "markdown",
   "id": "6925235c",
   "metadata": {
    "slideshow": {
     "slide_type": "skip"
    }
   },
   "source": [
    "<!-- ## Analysis: From IO\n",
    "\n",
    "These next sections will be concerned with the analysis behind this improvement. -->"
   ]
  },
  {
   "cell_type": "markdown",
   "id": "6e1a1a0a",
   "metadata": {
    "slideshow": {
     "slide_type": "skip"
    }
   },
   "source": [
    "<!-- ## Hard on Average SVL instances\n",
    "\n",
    "Recall that we wish to prove the following\n",
    "\n",
    "**Theorem 1: polynomially-hard OWP + iO for P/poly $\\rightarrow$ PPAD-Hardness**:\n",
    "\n",
    "That is, if polynomially-hard one-way permutations and indistinguishability obfuscation exist for P/poly, then EOL is hard for polynomial-time algorithms. -->"
   ]
  },
  {
   "cell_type": "markdown",
   "id": "c46c5acc",
   "metadata": {
    "slideshow": {
     "slide_type": "skip"
    }
   },
   "source": [
    "<!-- To begin, the sampler will generate a line graph. The nodes in the graph are of the form $(x, \\sigma_1, ..., \\sigma_{\\kappa})$ where $x \\in \\{0, 1\\}^\\kappa$.\n",
    "\n",
    "The nodes satisfy the following relation: for all $i \\in [\\kappa]$ if $PRF_{S_i}(x_{1:i}) = \\sigma_{i}$, then $(x, \\sigma_1, ..., \\sigma_{\\kappa})$ is valid. \n",
    "\n",
    "Furthermore, $(x, \\sigma_1, ..., \\sigma_{\\kappa})$ is connected to $(x + 1, \\sigma^{'}_1, ..., \\sigma_{\\kappa}^{'})$ via an out-going edge. Here $\\sigma^{'}_{i} = PRF_{S_i}(x + 1_{1:i})$\n",
    "\n",
    "Similarly, $(x, \\sigma_1, ..., \\sigma_{\\kappa})$ is connected to $(x - 1, \\sigma^{''}_1, ..., \\sigma_{\\kappa}^{''})$ symmetrically via an in-coming edge.\n",
    "\n",
    "The source node is $(0, PRF_{S_1}(0), ..., PRF_{S_\\kappa}(0^\\kappa))$ -->"
   ]
  },
  {
   "cell_type": "markdown",
   "id": "a15caa85",
   "metadata": {
    "slideshow": {
     "slide_type": "skip"
    }
   },
   "source": [
    "## Thanks!"
   ]
  }
 ],
 "metadata": {
  "celltoolbar": "Slideshow",
  "kernelspec": {
   "display_name": "Python 3 (ipykernel)",
   "language": "python",
   "name": "python3"
  },
  "language_info": {
   "codemirror_mode": {
    "name": "ipython",
    "version": 3
   },
   "file_extension": ".py",
   "mimetype": "text/x-python",
   "name": "python",
   "nbconvert_exporter": "python",
   "pygments_lexer": "ipython3",
   "version": "3.9.13"
  }
 },
 "nbformat": 4,
 "nbformat_minor": 5
}
